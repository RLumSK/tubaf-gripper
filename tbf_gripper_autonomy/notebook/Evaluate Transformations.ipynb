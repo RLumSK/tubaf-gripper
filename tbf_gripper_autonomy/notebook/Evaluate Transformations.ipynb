{
 "cells": [
  {
   "cell_type": "code",
   "execution_count": 115,
   "metadata": {},
   "outputs": [],
   "source": [
    "import numpy as np\n",
    "import pickle\n",
    "import matplotlib.pyplot as plt\n",
    "import os\n",
    "\n",
    "lst_X = pickle.load(open(\"/home/grehl/robots/julius_util_ws/src/tubaf_gripper/tbf_gripper_autonomy/data/pickle/20181106_2/solution_X.pickle\", \"rb\"))"
   ]
  },
  {
   "cell_type": "code",
   "execution_count": 116,
   "metadata": {},
   "outputs": [
    {
     "name": "stdout",
     "output_type": "stream",
     "text": [
      "Anzahl der Transformationen: 10\n",
      "Erste Transformation:\n",
      "[[ 0.57731059  0.00992112 -0.00287131  0.12160243]\n",
      " [ 0.00996821 -0.57735342  0.00650458  0.17688809]\n",
      " [ 0.00274906  0.00653229  0.57712818 -0.21790693]\n",
      " [ 0.          0.          0.          1.        ]]\n"
     ]
    }
   ],
   "source": [
    "print \"Anzahl der Transformationen: %d\" % len(lst_X)\n",
    "print \"Erste Transformation:\\n%s\" % lst_X[0]"
   ]
  },
  {
   "cell_type": "code",
   "execution_count": 117,
   "metadata": {},
   "outputs": [
    {
     "name": "stdout",
     "output_type": "stream",
     "text": [
      "Max(roll): 0.0081\n",
      "Min(roll): -0.0001\n",
      "Max(pitch): 0.0041\n",
      "Min(pitch): 0.0001\n",
      "Max(yaw): 0.0292\n",
      "Min(yaw): 0.0150\n"
     ]
    }
   ],
   "source": [
    "from scipy.spatial.transform import Rotation as R\n",
    "lst_R = []\n",
    "lst_t = []\n",
    "for X in lst_X:\n",
    "    lst_t.append(X[:3, 3])\n",
    "    lst_R.append(R.from_dcm(X[:3, :3]))\n",
    "lst_t = np.asarray(lst_t)\n",
    "lst_roll = []\n",
    "lst_pitch = []\n",
    "lst_yaw = []\n",
    "as_deg = False\n",
    "\n",
    "def norm_anlge(angle, border, inc):\n",
    "    if angle > border:\n",
    "        angle -= inc\n",
    "    if angle <-border:\n",
    "        angle+=inc\n",
    "    return angle\n",
    "border = 3.0\n",
    "for rot in lst_R:\n",
    "    [roll, pitch, yaw] = rot.as_euler('xyz', as_deg)\n",
    "    \n",
    "    if as_deg:\n",
    "        inc = 360.0\n",
    "    else:\n",
    "        inc = np.pi\n",
    "    lst_roll.append(norm_anlge(roll, border, inc))\n",
    "    lst_pitch.append(norm_anlge(pitch, border, inc))\n",
    "    lst_yaw.append(norm_anlge(yaw, border, inc))\n",
    "print \"Max(roll): %1.4f\" % max(lst_roll)\n",
    "print \"Min(roll): %1.4f\" % min(lst_roll)\n",
    "print \"Max(pitch): %1.4f\" % max(lst_pitch)\n",
    "print \"Min(pitch): %1.4f\" % min(lst_pitch)\n",
    "print \"Max(yaw): %1.4f\" % max(lst_yaw)\n",
    "print \"Min(yaw): %1.4f\" % min(lst_yaw)"
   ]
  },
  {
   "cell_type": "code",
   "execution_count": 118,
   "metadata": {},
   "outputs": [
    {
     "data": {
      "image/png": "[encoded data removed]",
      "text/plain": [
       "<Figure size 432x288 with 1 Axes>"
      ]
     },
     "metadata": {
      "needs_background": "light"
     },
     "output_type": "display_data"
    },
    {
     "data": {
      "image/png": "[encoded data removed]",
      "text/plain": [
       "<Figure size 432x288 with 1 Axes>"
      ]
     },
     "metadata": {
      "needs_background": "light"
     },
     "output_type": "display_data"
    }
   ],
   "source": [
    "# Prob. update matplotlib to avoid errors\n",
    "fig1, ax1 = plt.subplots()\n",
    "ax1.set_title('Boxplot of Rotation')\n",
    "data= [lst_roll, lst_pitch, lst_yaw]\n",
    "labels = [\"Roll\", \"Pitch\", \"Yaw\"]\n",
    "ax1.boxplot(data, labels=labels);\n",
    "\n",
    "fig1, ax2 = plt.subplots()\n",
    "ax1.set_title('Boxplot of Translation')\n",
    "data= [lst_t[0,:], lst_t[1,:], lst_t[2,:]]\n",
    "labels = [\"X\", \"Y\", \"Z\"]\n",
    "ax2.boxplot(data, labels=labels);"
   ]
  },
  {
   "cell_type": "code",
   "execution_count": 121,
   "metadata": {},
   "outputs": [
    {
     "data": {
      "image/png": "[encoded data removed]",
      "text/plain": [
       "<Figure size 432x288 with 1 Axes>"
      ]
     },
     "metadata": {
      "needs_background": "light"
     },
     "output_type": "display_data"
    }
   ],
   "source": [
    "# Rotations\n",
    "n_bins= int(np.rint(len(lst_t)/2))\n",
    "label = ['X','Y','Z']\n",
    "for str_angle, data in zip(label, [lst_t[0,:], lst_t[1,:], lst_t[2,:]]):\n",
    "    plt.hist(data, n_bins, histtype='stepfilled', label=str_angle)\n",
    "plt.xlabel('length in m');\n",
    "plt.ylabel('Count');\n",
    "plt.title('Histogram of the Translation');\n",
    "plt.legend();"
   ]
  },
  {
   "cell_type": "code",
   "execution_count": null,
   "metadata": {},
   "outputs": [],
   "source": [
    "# Translation\n",
    "n_bins= int(np.rint(len(lst_roll)/2))\n",
    "label = ['Roll','Pitch','Yaw']\n",
    "for str_angle, data in zip(label, [lst_roll, lst_pitch, lst_yaw]):\n",
    "    plt.hist(data, n_bins, histtype='stepfilled', label=str_angle)\n",
    "plt.xlabel('Angles in '+('°'if as_deg else 'rad'));\n",
    "plt.ylabel('Count');\n",
    "plt.title('Histogram of the Euler Angles');\n",
    "plt.legend();"
   ]
  }
 ],
 "metadata": {
  "kernelspec": {
   "display_name": "Python 2",
   "language": "python",
   "name": "python2"
  },
  "language_info": {
   "codemirror_mode": {
    "name": "ipython",
    "version": 2
   },
   "file_extension": ".py",
   "mimetype": "text/x-python",
   "name": "python",
   "nbconvert_exporter": "python",
   "pygments_lexer": "ipython2",
   "version": "2.7.12"
  }
 },
 "nbformat": 4,
 "nbformat_minor": 2
}
