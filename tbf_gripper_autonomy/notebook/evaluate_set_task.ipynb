{
 "cells": [
  {
   "cell_type": "code",
   "execution_count": 14,
   "metadata": {},
   "outputs": [],
   "source": [
    "import rosbag\n",
    "import cv2\n",
    "from cv_bridge import CvBridge\n",
    "from sensor_msgs.msg import Image\n",
    "bridge = CvBridge()\n",
    "import numpy as np\n",
    "from matplotlib import pyplot as plt\n",
    "from tubaf_tools import array_to_pose, pose_to_array\n",
    "from geometry_msgs.msg import PoseStamped as PoseStamped"
   ]
  },
  {
   "cell_type": "code",
<<<<<<< Updated upstream
   "execution_count": 27,
=======
   "execution_count": 59,
>>>>>>> Stashed changes
   "metadata": {},
   "outputs": [],
   "source": [
    "# http://wiki.ros.org/rosbag/Cookbook#Get_summary_information_about_a_bag\n",
<<<<<<< Updated upstream
    "bag = rosbag.Bag('/home/grehl/bags/henkel.bag')\n",
=======
    "bags = [\"Henkel5737\",  \"Knauf4457\",  \"Kugel4583\"]\n",
    "p = '/home/grehl/bags/EquipmentTask/save/'\n",
    "bag = rosbag.Bag(p+bags[2]+'.bag')\n",
>>>>>>> Stashed changes
    "topics = bag.get_type_and_topic_info()[1].keys()\n",
    "types = []\n",
    "for i in range(0,len(bag.get_type_and_topic_info()[1].values())):\n",
    "    types.append(bag.get_type_and_topic_info()[1].values()[i][0])"
   ]
  },
  {
   "cell_type": "code",
   "execution_count": 4,
   "metadata": {},
   "outputs": [],
   "source": [
    "def show_depth(cv_image, title=\"test\"):\n",
    "    real_min = np.min(cv_image[np.nonzero(cv_image)])\n",
    "    cv_image[cv_image==0] = real_min\n",
    "    cv_image = np.abs(cv_image - np.max(cv_image))\n",
    "    cv_image_array = np.array(cv_image, dtype = np.dtype('f8'))\n",
    "    cv_image_norm = cv2.normalize(cv_image_array, cv_image_array, 0.1, 0.9, cv2.NORM_MINMAX)\n",
    "    cv2.imshow(title, cv_image_norm)\n",
    "    cv2.waitKey(0)\n",
    "    cv2.destroyAllWindows()"
   ]
  },
  {
   "cell_type": "code",
<<<<<<< Updated upstream
   "execution_count": 40,
=======
   "execution_count": 60,
>>>>>>> Stashed changes
   "metadata": {},
   "outputs": [
    {
     "name": "stdout",
     "output_type": "stream",
     "text": [
      "pose/estimated\n",
      "pose/sensed\n",
<<<<<<< Updated upstream
      "sensed_pose_confidence: 0.999481022358\n",
      "[ 3.3148431  -0.16027155  9.4371281 ]\n",
      "[-0.00097563  0.02888732]\n",
      "0.028903789666788547\n"
=======
      "sensed_pose_confidence: 0.964747846127\n",
      "[ 15.11276481 -78.39118745 104.45976626]\n",
      "[0.11336759 0.02791174]\n",
      "0.11675305078161585\n"
>>>>>>> Stashed changes
     ]
    },
    {
     "data": {
      "text/plain": [
<<<<<<< Updated upstream
       "[<matplotlib.lines.Line2D at 0x7f40cf23ffd0>]"
      ]
     },
     "execution_count": 40,
=======
       "[<matplotlib.lines.Line2D at 0x7f40c8eca950>]"
      ]
     },
     "execution_count": 60,
>>>>>>> Stashed changes
     "metadata": {},
     "output_type": "execute_result"
    },
    {
     "data": {
<<<<<<< Updated upstream
      "image/png": "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\n",
=======
      "image/png": "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\n",
>>>>>>> Stashed changes
      "text/plain": [
       "<Figure size 432x288 with 1 Axes>"
      ]
     },
     "metadata": {
      "needs_background": "light"
     },
     "output_type": "display_data"
    }
   ],
   "source": [
<<<<<<< Updated upstream
=======
    "est_ps = None\n",
    "sen_ps = None\n",
>>>>>>> Stashed changes
    "for topic, msg, t in bag.read_messages(topics):\n",
    "    if \"pose/\" in topic:\n",
    "        if \"estimate\" in topic:\n",
    "            print topic\n",
    "            est_ps = msg\n",
    "        if \"sense\" in topic:\n",
    "            print topic\n",
    "            sen_ps = msg\n",
    "    if \"confidence\" in topic:\n",
    "        print topic + \": \" + str(msg.data)\n",
    "est = pose_to_array(est_ps.pose)\n",
    "sen = pose_to_array(sen_ps.pose)\n",
    "\n",
    "est_xy = np.array([est[0,3], est[1,3]])\n",
    "sen_xy = np.array([sen[0,3], sen[1,3]])\n",
    "\n",
    "from scipy.spatial.transform import Rotation as R\n",
    "\n",
    "est_w = R.from_dcm(est[:3, :3]).as_euler('xyz', degrees=True)\n",
    "sen_w = R.from_dcm(sen[:3, :3]).as_euler('xyz', degrees=True)\n",
    "\n",
    "a = est_w - sen_w\n",
    "a = (a + 180) % 360 - 180\n",
    "print a\n",
    "print est_xy - sen_xy\n",
    "print np.linalg.norm(est_xy -sen_xy)\n",
    "plt.figure()\n",
    "plt.xlim(-2, 2)\n",
    "plt.ylim(-2, 2)\n",
    "plt.plot([est[0,3], sen[0,3]],[est[1,3], sen[1,3]], \"o\")"
   ]
  },
  {
   "cell_type": "code",
<<<<<<< Updated upstream
   "execution_count": 49,
=======
   "execution_count": 56,
>>>>>>> Stashed changes
   "metadata": {
    "scrolled": false
   },
   "outputs": [
    {
     "name": "stdout",
     "output_type": "stream",
     "text": [
      "pose/sensed\n",
      "header: \n",
      "  seq: 0\n",
      "  stamp: \n",
      "    secs: 0\n",
      "    nsecs:         0\n",
      "  frame_id: \"gripper_ur5_base_link\"\n",
      "pose: \n",
      "  position: \n",
<<<<<<< Updated upstream
      "    x: 0.419507274505\n",
      "    y: 0.42385016827\n",
      "    z: -0.517\n",
      "  orientation: \n",
      "    x: 0.00976747820654\n",
      "    y: -0.0210377849589\n",
      "    z: 0.994825902378\n",
      "    w: -0.0989112325825\n",
      "sensed_pose_confidence\n",
      "data: 0.999481022358\n",
=======
      "    x: 0.456396785862\n",
      "    y: 0.185100920428\n",
      "    z: -0.517\n",
      "  orientation: \n",
      "    x: -0.178174133573\n",
      "    y: 0.608178966242\n",
      "    z: 0.177409311385\n",
      "    w: 0.752926463461\n",
      "sensed_pose_confidence\n",
      "data: 0.964747846127\n",
>>>>>>> Stashed changes
      "sense/planes\n",
      "header: \n",
      "  seq: 0\n",
      "  stamp: \n",
      "    secs: 0\n",
      "    nsecs:         0\n",
      "  frame_id: ''\n",
      "tables: []\n",
      "sense/floor\n",
      "header: \n",
      "  seq: 0\n",
      "  stamp: \n",
      "    secs: 0\n",
      "    nsecs:         0\n",
      "  frame_id: ''\n",
      "pose: \n",
      "  position: \n",
      "    x: 0.0\n",
      "    y: 0.0\n",
      "    z: 0.0\n",
      "  orientation: \n",
      "    x: 0.0\n",
      "    y: 0.0\n",
      "    z: 0.0\n",
      "    w: 0.0\n",
      "convex_hull: []\n",
      "sense/obstacles\n",
      "markers: []\n",
      "sense/ps\n",
      "header: \n",
      "  seq: 0\n",
      "  stamp: \n",
      "    secs: 0\n",
      "    nsecs:         0\n",
      "  frame_id: ''\n",
      "pose: \n",
      "  position: \n",
      "    x: 0.0\n",
      "    y: 0.0\n",
      "    z: 0.0\n",
      "  orientation: \n",
      "    x: 0.0\n",
      "    y: 0.0\n",
      "    z: 0.0\n",
      "    w: 0.0\n"
     ]
    }
   ],
   "source": [
    "for topic, msg, t in bag.read_messages(topics):\n",
    "    if \"sense\" in topic:\n",
    "        print topic\n",
    "        print msg\n",
    "#     if \"attempts\" in topic:\n",
    "#         print(\"%s: %i\" % (topic, msg.data))\n",
    "#     if \"planning_time\" in topic:\n",
    "#         print(\"%s: %i\" % (topic, msg.data))\n",
    "#     if \"planner\" in topic:\n",
    "#         print(\"%s: %s\" % (topic, msg.data.split(\"kConfig\")[0]))\n",
    "#     if \"timing\" in topic:\n",
    "#         print(\"%s: %i\" % (topic, msg.data))\n",
    "        \n",
    "#     if \"trajectory\" in topic:\n",
    "#         print(topic)\n",
    "#         p_trj = None\n",
    "#         v_trj = None\n",
    "#         a_trj = None\n",
    "#         e_trj = None\n",
    "#         t = None\n",
    "#         leg = []\n",
    "#         for k in msg.joint_trajectory.joint_names:\n",
    "#             leg.append(k.split(\"ur5_\")[-1].split(\"_joint\")[0])\n",
    "#         leg[0] = \"base\"\n",
    "#         leg[1] = \"shoulder\"\n",
    "#         for point in msg.joint_trajectory.points:\n",
    "#             if p_trj is None:\n",
    "#                 p_trj = [point.positions]\n",
    "#                 v_trj = [point.velocities]\n",
    "#                 a_trj = [point.accelerations]\n",
    "#                 e_trj = [point.effort]\n",
    "#                 t = [point.time_from_start.to_sec()]\n",
    "#             else:\n",
    "#                 p_trj = np.vstack([p_trj, point.positions])\n",
    "#                 v_trj = np.vstack([v_trj, point.velocities])\n",
    "#                 a_trj = np.vstack([a_trj, point.accelerations])\n",
    "#                 e_trj = np.vstack([e_trj, point.effort])\n",
    "#                 t = np.vstack([t, point.time_from_start.to_sec()])\n",
    "#         for y in range(len(p_trj[0])):\n",
    "#             plt.plot(t, np.rad2deg(p_trj[:, y]), color=mpl.cm.viridis.colors[y*50])\n",
    "#         plt.title(\"Position \"+topic.split(\"/\")[-1])\n",
    "#         plt.xlabel('Zeit seit Start [s]')\n",
    "#         plt.ylabel('Gelenkwinkel [deg]')\n",
    "#         plt.legend(leg, bbox_to_anchor=(1.05, 1), loc='upper left')\n",
    "#         plt.show()\n",
    "        \n",
    "#         for y in range(len(v_trj[0])):\n",
    "#             plt.plot(t, np.rad2deg(v_trj[:, y]), color=mpl.cm.viridis.colors[y*50])\n",
    "#         plt.title(\"Geschwindigkeit \"+topic.split(\"/\")[-1])\n",
    "#         plt.xlabel('Zeit seit Start [s]')\n",
    "#         plt.ylabel('Winkelgeschwindigkeit [deg/s]')\n",
    "#         plt.legend(leg, bbox_to_anchor=(1.05, 1), loc='upper left')\n",
    "#         plt.show()\n",
    "    \n",
    "#         for y in range(len(a_trj[0])):\n",
    "#             plt.plot(t, np.rad2deg(a_trj[:, y]), color=mpl.cm.viridis.colors[y*50])\n",
    "#         plt.title(\"Beschleunigung \"+topic.split(\"/\")[-1])\n",
    "#         plt.xlabel('Zeit seit Start [s]')\n",
    "#         plt.ylabel('Winkelbeschleunigung [deg/s^2]')\n",
    "#         plt.legend(leg, bbox_to_anchor=(1.05, 1), loc='upper left')\n",
    "#         plt.show()\n",
    "\n",
    "#     if \"rgb\" in topic:\n",
    "#         print topic\n",
    "#         image = bridge.imgmsg_to_cv2(msg, \"bgra8\")\n",
    "#         cv2.imshow(\"test\", image)\n",
    "#         cv2.waitKey(0)\n",
    "#         cv2.destroyAllWindows()\n",
    "#     if \"depth\" in topic:\n",
    "#         print topic\n",
    "#         # https://stackoverflow.com/questions/47751323/get-depth-image-in-grayscale-in-ros-with-imgmsg-to-cv2-python\n",
    "#         show_depth(bridge.imgmsg_to_cv2(msg, \"16UC1\"), topic.split(\"/\")[-1])\n",
    "    "
   ]
  },
  {
   "cell_type": "code",
   "execution_count": 21,
   "metadata": {},
   "outputs": [
    {
     "data": {
      "text/plain": [
       "90.00021045914971"
      ]
     },
     "execution_count": 21,
     "metadata": {},
     "output_type": "execute_result"
    }
   ],
   "source": [
    "np.rad2deg(1.5708)"
   ]
  },
  {
   "cell_type": "code",
   "execution_count": 152,
   "metadata": {},
   "outputs": [
    {
     "data": {
      "text/plain": [
       "True"
      ]
     },
     "execution_count": 152,
     "metadata": {},
     "output_type": "execute_result"
    }
   ],
   "source": [
    "not 0"
   ]
  },
  {
   "cell_type": "code",
   "execution_count": 160,
   "metadata": {},
   "outputs": [
    {
     "data": {
      "text/plain": [
       "['sdf']"
      ]
     },
     "execution_count": 160,
     "metadata": {},
     "output_type": "execute_result"
    }
   ],
   "source": [
    "\"sdf\".split(\"a\")"
   ]
  },
  {
   "cell_type": "code",
   "execution_count": 158,
   "metadata": {},
   "outputs": [
    {
     "data": {
      "text/plain": [
       "'a;b'"
      ]
     },
     "execution_count": 158,
     "metadata": {},
     "output_type": "execute_result"
    }
   ],
   "source": [
    "import string\n",
    "\n"
   ]
  },
  {
   "cell_type": "code",
   "execution_count": null,
   "metadata": {},
   "outputs": [],
   "source": []
  }
 ],
 "metadata": {
  "kernelspec": {
   "display_name": "Python 2",
   "language": "python",
   "name": "python2"
  },
  "language_info": {
   "codemirror_mode": {
    "name": "ipython",
    "version": 2
   },
   "file_extension": ".py",
   "mimetype": "text/x-python",
   "name": "python",
   "nbconvert_exporter": "python",
   "pygments_lexer": "ipython2",
   "version": "2.7.12"
  }
 },
 "nbformat": 4,
 "nbformat_minor": 2
}
