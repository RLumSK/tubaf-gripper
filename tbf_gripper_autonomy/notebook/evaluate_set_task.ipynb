{
 "cells": [
  {
   "cell_type": "code",
   "execution_count": 14,
   "metadata": {},
   "outputs": [],
   "source": [
    "import rosbag\n",
    "import cv2\n",
    "from cv_bridge import CvBridge\n",
    "from sensor_msgs.msg import Image\n",
    "bridge = CvBridge()\n",
    "import numpy as np\n",
    "from matplotlib import pyplot as plt\n",
    "from tubaf_tools import array_to_pose, pose_to_array\n",
    "from geometry_msgs.msg import PoseStamped as PoseStamped"
   ]
  },
  {
   "cell_type": "code",
   "execution_count": 27,
   "metadata": {},
   "outputs": [],
   "source": [
    "# http://wiki.ros.org/rosbag/Cookbook#Get_summary_information_about_a_bag\n",
    "bag = rosbag.Bag('/home/grehl/bags/henkel.bag')\n",
    "topics = bag.get_type_and_topic_info()[1].keys()\n",
    "types = []\n",
    "for i in range(0,len(bag.get_type_and_topic_info()[1].values())):\n",
    "    types.append(bag.get_type_and_topic_info()[1].values()[i][0])"
   ]
  },
  {
   "cell_type": "code",
   "execution_count": 4,
   "metadata": {},
   "outputs": [],
   "source": [
    "def show_depth(cv_image, title=\"test\"):\n",
    "    real_min = np.min(cv_image[np.nonzero(cv_image)])\n",
    "    cv_image[cv_image==0] = real_min\n",
    "    cv_image = np.abs(cv_image - np.max(cv_image))\n",
    "    cv_image_array = np.array(cv_image, dtype = np.dtype('f8'))\n",
    "    cv_image_norm = cv2.normalize(cv_image_array, cv_image_array, 0.1, 0.9, cv2.NORM_MINMAX)\n",
    "    cv2.imshow(title, cv_image_norm)\n",
    "    cv2.waitKey(0)\n",
    "    cv2.destroyAllWindows()"
   ]
  },
  {
   "cell_type": "code",
   "execution_count": 40,
   "metadata": {},
   "outputs": [
    {
     "name": "stdout",
     "output_type": "stream",
     "text": [
      "pose/estimated\n",
      "pose/sensed\n",
      "sensed_pose_confidence: 0.999481022358\n",
      "[ 3.3148431  -0.16027155  9.4371281 ]\n",
      "[-0.00097563  0.02888732]\n",
      "0.028903789666788547\n"
     ]
    },
    {
     "data": {
      "text/plain": [
       "[<matplotlib.lines.Line2D at 0x7f40cf23ffd0>]"
      ]
     },
     "execution_count": 40,
     "metadata": {},
     "output_type": "execute_result"
    },
    {
     "data": {
      "image/png": "[encoded data removed]",
      "text/plain": [
       "<Figure size 432x288 with 1 Axes>"
      ]
     },
     "metadata": {
      "needs_background": "light"
     },
     "output_type": "display_data"
    }
   ],
   "source": [
    "for topic, msg, t in bag.read_messages(topics):\n",
    "    if \"pose/\" in topic:\n",
    "        if \"estimate\" in topic:\n",
    "            print topic\n",
    "            est_ps = msg\n",
    "        if \"sense\" in topic:\n",
    "            print topic\n",
    "            sen_ps = msg\n",
    "    if \"confidence\" in topic:\n",
    "        print topic + \": \" + str(msg.data)\n",
    "est = pose_to_array(est_ps.pose)\n",
    "sen = pose_to_array(sen_ps.pose)\n",
    "\n",
    "est_xy = np.array([est[0,3], est[1,3]])\n",
    "sen_xy = np.array([sen[0,3], sen[1,3]])\n",
    "\n",
    "from scipy.spatial.transform import Rotation as R\n",
    "\n",
    "est_w = R.from_dcm(est[:3, :3]).as_euler('xyz', degrees=True)\n",
    "sen_w = R.from_dcm(sen[:3, :3]).as_euler('xyz', degrees=True)\n",
    "\n",
    "a = est_w - sen_w\n",
    "a = (a + 180) % 360 - 180\n",
    "print a\n",
    "print est_xy - sen_xy\n",
    "print np.linalg.norm(est_xy -sen_xy)\n",
    "plt.figure()\n",
    "plt.xlim(-2, 2)\n",
    "plt.ylim(-2, 2)\n",
    "plt.plot([est[0,3], sen[0,3]],[est[1,3], sen[1,3]], \"o\")"
   ]
  },
  {
   "cell_type": "code",
   "execution_count": 49,
   "metadata": {
    "scrolled": false
   },
   "outputs": [
    {
     "name": "stdout",
     "output_type": "stream",
     "text": [
      "pose/sensed\n",
      "header: \n",
      "  seq: 0\n",
      "  stamp: \n",
      "    secs: 0\n",
      "    nsecs:         0\n",
      "  frame_id: \"gripper_ur5_base_link\"\n",
      "pose: \n",
      "  position: \n",
      "    x: 0.419507274505\n",
      "    y: 0.42385016827\n",
      "    z: -0.517\n",
      "  orientation: \n",
      "    x: 0.00976747820654\n",
      "    y: -0.0210377849589\n",
      "    z: 0.994825902378\n",
      "    w: -0.0989112325825\n",
      "sensed_pose_confidence\n",
      "data: 0.999481022358\n",
      "sense/planes\n",
      "header: \n",
      "  seq: 0\n",
      "  stamp: \n",
      "    secs: 0\n",
      "    nsecs:         0\n",
      "  frame_id: ''\n",
      "tables: []\n",
      "sense/floor\n",
      "header: \n",
      "  seq: 0\n",
      "  stamp: \n",
      "    secs: 0\n",
      "    nsecs:         0\n",
      "  frame_id: ''\n",
      "pose: \n",
      "  position: \n",
      "    x: 0.0\n",
      "    y: 0.0\n",
      "    z: 0.0\n",
      "  orientation: \n",
      "    x: 0.0\n",
      "    y: 0.0\n",
      "    z: 0.0\n",
      "    w: 0.0\n",
      "convex_hull: []\n",
      "sense/obstacles\n",
      "markers: []\n",
      "sense/ps\n",
      "header: \n",
      "  seq: 0\n",
      "  stamp: \n",
      "    secs: 0\n",
      "    nsecs:         0\n",
      "  frame_id: ''\n",
      "pose: \n",
      "  position: \n",
      "    x: 0.0\n",
      "    y: 0.0\n",
      "    z: 0.0\n",
      "  orientation: \n",
      "    x: 0.0\n",
      "    y: 0.0\n",
      "    z: 0.0\n",
      "    w: 0.0\n"
     ]
    }
   ],
   "source": [
    "for topic, msg, t in bag.read_messages(topics):\n",
    "    if \"sense\" in topic:\n",
    "        print topic\n",
    "        print msg\n",
    "#     if \"attempts\" in topic:\n",
    "#         print(\"%s: %i\" % (topic, msg.data))\n",
    "#     if \"planning_time\" in topic:\n",
    "#         print(\"%s: %i\" % (topic, msg.data))\n",
    "#     if \"planner\" in topic:\n",
    "#         print(\"%s: %s\" % (topic, msg.data.split(\"kConfig\")[0]))\n",
    "#     if \"timing\" in topic:\n",
    "#         print(\"%s: %i\" % (topic, msg.data))\n",
    "        \n",
    "#     if \"trajectory\" in topic:\n",
    "#         print(topic)\n",
    "#         p_trj = None\n",
    "#         v_trj = None\n",
    "#         a_trj = None\n",
    "#         e_trj = None\n",
    "#         t = None\n",
    "#         leg = []\n",
    "#         for k in msg.joint_trajectory.joint_names:\n",
    "#             leg.append(k.split(\"ur5_\")[-1].split(\"_joint\")[0])\n",
    "#         leg[0] = \"base\"\n",
    "#         leg[1] = \"shoulder\"\n",
    "#         for point in msg.joint_trajectory.points:\n",
    "#             if p_trj is None:\n",
    "#                 p_trj = [point.positions]\n",
    "#                 v_trj = [point.velocities]\n",
    "#                 a_trj = [point.accelerations]\n",
    "#                 e_trj = [point.effort]\n",
    "#                 t = [point.time_from_start.to_sec()]\n",
    "#             else:\n",
    "#                 p_trj = np.vstack([p_trj, point.positions])\n",
    "#                 v_trj = np.vstack([v_trj, point.velocities])\n",
    "#                 a_trj = np.vstack([a_trj, point.accelerations])\n",
    "#                 e_trj = np.vstack([e_trj, point.effort])\n",
    "#                 t = np.vstack([t, point.time_from_start.to_sec()])\n",
    "#         for y in range(len(p_trj[0])):\n",
    "#             plt.plot(t, np.rad2deg(p_trj[:, y]), color=mpl.cm.viridis.colors[y*50])\n",
    "#         plt.title(\"Position \"+topic.split(\"/\")[-1])\n",
    "#         plt.xlabel('Zeit seit Start [s]')\n",
    "#         plt.ylabel('Gelenkwinkel [deg]')\n",
    "#         plt.legend(leg, bbox_to_anchor=(1.05, 1), loc='upper left')\n",
    "#         plt.show()\n",
    "        \n",
    "#         for y in range(len(v_trj[0])):\n",
    "#             plt.plot(t, np.rad2deg(v_trj[:, y]), color=mpl.cm.viridis.colors[y*50])\n",
    "#         plt.title(\"Geschwindigkeit \"+topic.split(\"/\")[-1])\n",
    "#         plt.xlabel('Zeit seit Start [s]')\n",
    "#         plt.ylabel('Winkelgeschwindigkeit [deg/s]')\n",
    "#         plt.legend(leg, bbox_to_anchor=(1.05, 1), loc='upper left')\n",
    "#         plt.show()\n",
    "    \n",
    "#         for y in range(len(a_trj[0])):\n",
    "#             plt.plot(t, np.rad2deg(a_trj[:, y]), color=mpl.cm.viridis.colors[y*50])\n",
    "#         plt.title(\"Beschleunigung \"+topic.split(\"/\")[-1])\n",
    "#         plt.xlabel('Zeit seit Start [s]')\n",
    "#         plt.ylabel('Winkelbeschleunigung [deg/s^2]')\n",
    "#         plt.legend(leg, bbox_to_anchor=(1.05, 1), loc='upper left')\n",
    "#         plt.show()\n",
    "\n",
    "#     if \"rgb\" in topic:\n",
    "#         print topic\n",
    "#         image = bridge.imgmsg_to_cv2(msg, \"bgra8\")\n",
    "#         cv2.imshow(\"test\", image)\n",
    "#         cv2.waitKey(0)\n",
    "#         cv2.destroyAllWindows()\n",
    "#     if \"depth\" in topic:\n",
    "#         print topic\n",
    "#         # https://stackoverflow.com/questions/47751323/get-depth-image-in-grayscale-in-ros-with-imgmsg-to-cv2-python\n",
    "#         show_depth(bridge.imgmsg_to_cv2(msg, \"16UC1\"), topic.split(\"/\")[-1])\n",
    "    "
   ]
  },
  {
   "cell_type": "code",
   "execution_count": 21,
   "metadata": {},
   "outputs": [
    {
     "data": {
      "text/plain": [
       "90.00021045914971"
      ]
     },
     "execution_count": 21,
     "metadata": {},
     "output_type": "execute_result"
    }
   ],
   "source": [
    "np.rad2deg(1.5708)"
   ]
  },
  {
   "cell_type": "code",
   "execution_count": 152,
   "metadata": {},
   "outputs": [
    {
     "data": {
      "text/plain": [
       "True"
      ]
     },
     "execution_count": 152,
     "metadata": {},
     "output_type": "execute_result"
    }
   ],
   "source": [
    "not 0"
   ]
  },
  {
   "cell_type": "code",
   "execution_count": 160,
   "metadata": {},
   "outputs": [
    {
     "data": {
      "text/plain": [
       "['sdf']"
      ]
     },
     "execution_count": 160,
     "metadata": {},
     "output_type": "execute_result"
    }
   ],
   "source": [
    "\"sdf\".split(\"a\")"
   ]
  },
  {
   "cell_type": "code",
   "execution_count": 158,
   "metadata": {},
   "outputs": [
    {
     "data": {
      "text/plain": [
       "'a;b'"
      ]
     },
     "execution_count": 158,
     "metadata": {},
     "output_type": "execute_result"
    }
   ],
   "source": [
    "import string\n",
    "\n"
   ]
  },
  {
   "cell_type": "code",
   "execution_count": null,
   "metadata": {},
   "outputs": [],
   "source": []
  }
 ],
 "metadata": {
  "kernelspec": {
   "display_name": "Python 2",
   "language": "python",
   "name": "python2"
  },
  "language_info": {
   "codemirror_mode": {
    "name": "ipython",
    "version": 2
   },
   "file_extension": ".py",
   "mimetype": "text/x-python",
   "name": "python",
   "nbconvert_exporter": "python",
   "pygments_lexer": "ipython2",
   "version": "2.7.12"
  }
 },
 "nbformat": 4,
 "nbformat_minor": 2
}
